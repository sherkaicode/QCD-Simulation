{
 "cells": [
  {
   "cell_type": "code",
   "execution_count": 8,
   "id": "e1c1506a-5d6e-4686-afd0-f6273f2f3d7f",
   "metadata": {},
   "outputs": [],
   "source": [
    "from Classes.Particles import Particle\n",
    "import numpy as np\n",
    "eCM = 16000"
   ]
  },
  {
   "cell_type": "code",
   "execution_count": 90,
   "id": "18e75bdd-0833-4063-9e89-cf3175ed0e4d",
   "metadata": {},
   "outputs": [],
   "source": [
    "# Create 100 Particles (Quarks) randomly assign the energy\n",
    "PID_quarks = [1, 2, 3, 4, 5, 6, -1, -2, -3, -4, -5, -6]"
   ]
  },
  {
   "cell_type": "code",
   "execution_count": 91,
   "id": "2f8e8c7b-8d10-4cb9-8462-f6834f78c3fa",
   "metadata": {},
   "outputs": [],
   "source": [
    "initial_quarks = [Particle(np.random.choice(PID_quarks), 0, 0) for i in range(10)]"
   ]
  },
  {
   "cell_type": "code",
   "execution_count": 93,
   "id": "b077d938-4135-4957-a258-da86d24bfbe0",
   "metadata": {},
   "outputs": [
    {
     "name": "stdout",
     "output_type": "stream",
     "text": [
      "Particle(pid=5, name = Bottom Quark, energy=0, momentum=0, mass = 4180000000.0, charge = -0.3333333333333333\n",
      "Particle(pid=6, name = Top Quark, energy=0, momentum=0, mass = 173210000000.0, charge = 0.6666666666666666\n",
      "Particle(pid=6, name = Top Quark, energy=0, momentum=0, mass = 173210000000.0, charge = 0.6666666666666666\n",
      "Particle(pid=-3, name = Strange Anti Quark, energy=0, momentum=0, mass = 95000000.0, charge = 0.3333333333333333\n",
      "Particle(pid=6, name = Top Quark, energy=0, momentum=0, mass = 173210000000.0, charge = 0.6666666666666666\n",
      "Particle(pid=5, name = Bottom Quark, energy=0, momentum=0, mass = 4180000000.0, charge = -0.3333333333333333\n",
      "Particle(pid=5, name = Bottom Quark, energy=0, momentum=0, mass = 4180000000.0, charge = -0.3333333333333333\n",
      "Particle(pid=6, name = Top Quark, energy=0, momentum=0, mass = 173210000000.0, charge = 0.6666666666666666\n",
      "Particle(pid=-2, name = Up Anti Quark, energy=0, momentum=0, mass = 2300000.0, charge = -0.6666666666666666\n",
      "Particle(pid=-6, name = Top Anti Quark, energy=0, momentum=0, mass = 173210000000.0, charge = -0.6666666666666666\n"
     ]
    }
   ],
   "source": [
    "# print(initial_quarks)\n",
    "for i in range(10):\n",
    "    print(initial_quarks[i])"
   ]
  },
  {
   "cell_type": "code",
   "execution_count": 89,
   "id": "492356f7-3b1b-449d-a262-46bb30b01228",
   "metadata": {},
   "outputs": [
    {
     "name": "stdout",
     "output_type": "stream",
     "text": [
      "7\n"
     ]
    }
   ],
   "source": []
  }
 ],
 "metadata": {
  "kernelspec": {
   "display_name": "Python 3 (ipykernel)",
   "language": "python",
   "name": "python3"
  },
  "language_info": {
   "codemirror_mode": {
    "name": "ipython",
    "version": 3
   },
   "file_extension": ".py",
   "mimetype": "text/x-python",
   "name": "python",
   "nbconvert_exporter": "python",
   "pygments_lexer": "ipython3",
   "version": "3.10.12"
  }
 },
 "nbformat": 4,
 "nbformat_minor": 5
}
