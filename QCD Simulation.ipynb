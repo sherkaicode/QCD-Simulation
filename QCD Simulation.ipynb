{
 "cells": [
  {
   "cell_type": "code",
   "execution_count": 5,
   "id": "e1c1506a-5d6e-4686-afd0-f6273f2f3d7f",
   "metadata": {},
   "outputs": [],
   "source": [
    "from Classes.Particles import Particle\n",
    "from Classes.Event import *\n",
    "import numpy as np\n",
    "import math\n",
    "TeV = 1e12\n",
    "MeV = 1e6"
   ]
  },
  {
   "cell_type": "code",
   "execution_count": 2,
   "id": "2f8e8c7b-8d10-4cb9-8462-f6834f78c3fa",
   "metadata": {},
   "outputs": [],
   "source": [
    "N = 500\n",
    "eCM = 13*TeV\n",
    "e_initial = 2\n",
    "initial_quarks = gen_initial(N, eCM, e_initial)"
   ]
  },
  {
   "cell_type": "code",
   "execution_count": 3,
   "id": "b077d938-4135-4957-a258-da86d24bfbe0",
   "metadata": {},
   "outputs": [
    {
     "name": "stdout",
     "output_type": "stream",
     "text": [
      "Particle(pid=-2, name = Up Anti Quark, energy=2327392.162822378, momentum=(156624.46263411993, -52997.3647519774, 315300.391057393), mass = 2300000.0, charge = -0.6666666666666666\n",
      "Particle(pid=-4, name = Charm Anti Quark, energy=1275000001.3653367, momentum=(-7599.4069350048885, -33380.17922378161, -48058.51390324256), mass = 1275000000.0, charge = -0.6666666666666666\n",
      "Particle(pid=-3, name = Strange Anti Quark, energy=95000480.26185954, momentum=(3493.3308680536043, -17572.211730312836, 301544.35491137364), mass = 95000000.0, charge = 0.3333333333333333\n",
      "Particle(pid=1, name = Down Quark, energy=4871850.660302761, momentum=(-224965.10268884202, 136290.50815961047, -791040.1103927906), mass = 4800000.0, charge = -0.3333333333333333\n",
      "Particle(pid=3, name = Strange Quark, energy=95000158.96213922, momentum=(-31640.783116640945, -100344.84015252069, 138320.66229481285), mass = 95000000.0, charge = -0.3333333333333333\n",
      "Particle(pid=1, name = Down Quark, energy=4808468.921108507, momentum=(-170385.17224959066, 40162.40484655538, 225231.52439395827), mass = 4800000.0, charge = -0.3333333333333333\n",
      "Particle(pid=-5, name = Bottom Anti Quark, energy=4180000006.9444866, momentum=(107838.170429362, -176951.62182290704, -122942.92372342816), mass = 4180000000.0, charge = 0.3333333333333333\n",
      "Particle(pid=6, name = Top Quark, energy=173210000000.1181, momentum=(-127237.89737819329, -97218.18502388889, 123596.55741983933), mass = 173210000000.0, charge = 0.6666666666666666\n",
      "Particle(pid=-2, name = Up Anti Quark, energy=2331813.7835215097, momentum=(-95581.36728781815, -262321.9277948042, 263451.9490273465), mass = 2300000.0, charge = -0.6666666666666666\n",
      "Particle(pid=6, name = Top Quark, energy=173210000000.01743, momentum=(-74528.01140762103, 3906.445039339475, 21597.15395576756), mass = 173210000000.0, charge = 0.6666666666666666\n"
     ]
    }
   ],
   "source": [
    "# print(initial_quarks)\n",
    "for i in range(10):\n",
    "    print(initial_quarks[i])"
   ]
  },
  {
   "cell_type": "code",
   "execution_count": 6,
   "id": "492356f7-3b1b-449d-a262-46bb30b01228",
   "metadata": {},
   "outputs": [
    {
     "name": "stdout",
     "output_type": "stream",
     "text": [
      "False\n",
      "2.0\n"
     ]
    }
   ],
   "source": [
    "# Check total mass\n",
    "total_mass = np.sum([initial_quarks[i].mass for i in range(N)])\n",
    "total_charge = np.sum([initial_quarks[i].charge for i in range(N)])\n",
    "\n",
    "print(total_mass > eCM)\n",
    "print(total_charge)"
   ]
  }
 ],
 "metadata": {
  "kernelspec": {
   "display_name": "Python 3 (ipykernel)",
   "language": "python",
   "name": "python3"
  },
  "language_info": {
   "codemirror_mode": {
    "name": "ipython",
    "version": 3
   },
   "file_extension": ".py",
   "mimetype": "text/x-python",
   "name": "python",
   "nbconvert_exporter": "python",
   "pygments_lexer": "ipython3",
   "version": "3.10.12"
  }
 },
 "nbformat": 4,
 "nbformat_minor": 5
}
