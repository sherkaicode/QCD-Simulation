{
 "cells": [
  {
   "cell_type": "code",
   "execution_count": 94,
   "id": "e1c1506a-5d6e-4686-afd0-f6273f2f3d7f",
   "metadata": {},
   "outputs": [],
   "source": [
    "from Classes.Particles import Particle\n",
    "import numpy as np\n",
    "TeV = 1e12\n",
    "eCM = 13*TeV"
   ]
  },
  {
   "cell_type": "code",
   "execution_count": 90,
   "id": "18e75bdd-0833-4063-9e89-cf3175ed0e4d",
   "metadata": {},
   "outputs": [],
   "source": [
    "# Create 100 Particles (Quarks) randomly assign the energy\n",
    "PID_quarks = [1, 2, 3, 4, 5, 6, -1, -2, -3, -4, -5, -6]"
   ]
  },
  {
   "cell_type": "code",
   "execution_count": 103,
   "id": "2f8e8c7b-8d10-4cb9-8462-f6834f78c3fa",
   "metadata": {},
   "outputs": [],
   "source": [
    "N = 1000\n",
    "initial_quarks = [Particle(np.random.choice(PID_quarks), 0, 0) for i in range(N)]"
   ]
  },
  {
   "cell_type": "code",
   "execution_count": 100,
   "id": "b077d938-4135-4957-a258-da86d24bfbe0",
   "metadata": {},
   "outputs": [
    {
     "name": "stdout",
     "output_type": "stream",
     "text": [
      "Particle(pid=-2, name = Up Anti Quark, energy=0, momentum=0, mass = 2300000.0, charge = -0.6666666666666666\n",
      "Particle(pid=-5, name = Bottom Anti Quark, energy=0, momentum=0, mass = 4180000000.0, charge = 0.3333333333333333\n",
      "Particle(pid=-4, name = Charm Anti Quark, energy=0, momentum=0, mass = 1275000000.0, charge = -0.6666666666666666\n",
      "Particle(pid=-4, name = Charm Anti Quark, energy=0, momentum=0, mass = 1275000000.0, charge = -0.6666666666666666\n",
      "Particle(pid=-6, name = Top Anti Quark, energy=0, momentum=0, mass = 173210000000.0, charge = -0.6666666666666666\n",
      "Particle(pid=-1, name = Down Anti Quark, energy=0, momentum=0, mass = 4800000.0, charge = 0.3333333333333333\n",
      "Particle(pid=1, name = Down Quark, energy=0, momentum=0, mass = 4800000.0, charge = -0.3333333333333333\n",
      "Particle(pid=4, name = Charm Quark, energy=0, momentum=0, mass = 1275000000.0, charge = 0.6666666666666666\n",
      "Particle(pid=5, name = Bottom Quark, energy=0, momentum=0, mass = 4180000000.0, charge = -0.3333333333333333\n",
      "Particle(pid=2, name = Up Quark, energy=0, momentum=0, mass = 2300000.0, charge = 0.6666666666666666\n"
     ]
    }
   ],
   "source": [
    "# print(initial_quarks)\n",
    "for i in range(10):\n",
    "    print(initial_quarks[i])"
   ]
  },
  {
   "cell_type": "code",
   "execution_count": 104,
   "id": "492356f7-3b1b-449d-a262-46bb30b01228",
   "metadata": {},
   "outputs": [
    {
     "name": "stdout",
     "output_type": "stream",
     "text": [
      "True\n",
      "-12.999999999999998\n"
     ]
    }
   ],
   "source": [
    "# Check total mass\n",
    "total_mass = np.sum([initial_quarks[i].mass for i in range(N)])\n",
    "total_charge = np.sum([initial_quarks[i].charge for i in range(N)])\n",
    "\n",
    "print(total_mass > eCM)\n",
    "print(total_charge)"
   ]
  }
 ],
 "metadata": {
  "kernelspec": {
   "display_name": "Python 3 (ipykernel)",
   "language": "python",
   "name": "python3"
  },
  "language_info": {
   "codemirror_mode": {
    "name": "ipython",
    "version": 3
   },
   "file_extension": ".py",
   "mimetype": "text/x-python",
   "name": "python",
   "nbconvert_exporter": "python",
   "pygments_lexer": "ipython3",
   "version": "3.10.12"
  }
 },
 "nbformat": 4,
 "nbformat_minor": 5
}
